{
 "cells": [
  {
   "cell_type": "code",
   "execution_count": 1,
   "metadata": {},
   "outputs": [],
   "source": [
    "def extract_features(ds):\n",
    "    imgs_mean=[]\n",
    "    imgs_std=[]\n",
    "    \n",
    "    for img in ds:\n",
    "        img_flattened=img.flatten()\n",
    "        img_mean=numpy.mean(img_flattened)\n",
    "        img_std=numpy.std(img_flattened)\n",
    "        imgs_mean.append(img_mean)\n",
    "        imgs_std.append(img_std)\n",
    "        \n",
    "    new_ds=numpy.column_stack([imgs_mean, imgs_std])\n",
    "    return new_ds"
   ]
  },
  {
   "cell_type": "code",
   "execution_count": 2,
   "metadata": {},
   "outputs": [],
   "source": [
    "def get_mean_var(ds):\n",
    "    feature_one_mean=numpy.mean(ds[:,0])\n",
    "    feature_one_var=numpy.var(ds[:,0])\n",
    "    feature_two_mean=numpy.mean(ds[:,1])\n",
    "    feature_two_var=numpy.var(ds[:,1])\n",
    "    return (feature_one_mean, feature_one_var, feature_two_mean, feature_two_var)"
   ]
  },
  {
   "cell_type": "code",
   "execution_count": 3,
   "metadata": {},
   "outputs": [],
   "source": [
    "def get_pdf_gauss_val(x, mean, var):\n",
    "    exp_val=math.exp(-((x-mean)**2)/(2*var))\n",
    "    prob=(1/numpy.sqrt(2*numpy.pi*var))*exp_val\n",
    "    return prob"
   ]
  },
  {
   "cell_type": "code",
   "execution_count": 4,
   "metadata": {},
   "outputs": [
    {
     "name": "stdout",
     "output_type": "stream",
     "text": [
      "[5000, 5000, 980, 1135]\n",
      "Your trainset and testset are generated successfully!\n",
      "Training Set 0 Parameters: \n",
      "44.3097334184 116.040547896 87.5241526603 100.977209998\n",
      "Training Set 1 Parameters: \n",
      "19.439277551 31.2419493074 61.48190629 81.8376195687\n",
      "--------------------------------------------------------------------------------------\n",
      "Test 0 Prediction Accuracy: 0.917346938776\n",
      "Test 1 Prediction Accuracy: 0.923348017621\n"
     ]
    }
   ],
   "source": [
    "import numpy\n",
    "import scipy.io\n",
    "import math\n",
    "import geneNewData\n",
    "\n",
    "def main():\n",
    "    myID='5027'\n",
    "    geneNewData.geneData(myID)\n",
    "    Numpyfile0 = scipy.io.loadmat('digit0_stu_train'+myID+'.mat')\n",
    "    Numpyfile1 = scipy.io.loadmat('digit1_stu_train'+myID+'.mat')\n",
    "    Numpyfile2 = scipy.io.loadmat('digit0_testset'+'.mat')\n",
    "    Numpyfile3 = scipy.io.loadmat('digit1_testset'+'.mat')\n",
    "    train0 = Numpyfile0.get('target_img')\n",
    "    train1 = Numpyfile1.get('target_img')\n",
    "    test0 = Numpyfile2.get('target_img')\n",
    "    test1 = Numpyfile3.get('target_img')\n",
    "    print([len(train0),len(train1),len(test0),len(test1)])\n",
    "    print('Your trainset and testset are generated successfully!')\n",
    "    \n",
    "    train0_two_f=extract_features(train0)\n",
    "    train1_two_f=extract_features(train1)\n",
    "    test0_two_f=extract_features(test0)\n",
    "    test1_two_f=extract_features(test1)\n",
    "    \n",
    "    train0_feature1_mean, train0_feature1_var, train0_feature2_mean, train0_feature2_var = get_mean_var(train0_two_f)\n",
    "    train1_feature1_mean, train1_feature1_var, train1_feature2_mean, train1_feature2_var = get_mean_var(train1_two_f)\n",
    "    \n",
    "    print(\"Training Set 0 Parameters: \")\n",
    "    print(train0_feature1_mean, train0_feature1_var, train0_feature2_mean, train0_feature2_var)\n",
    "    print(\"Training Set 1 Parameters: \")\n",
    "    print(train1_feature1_mean, train1_feature1_var, train1_feature2_mean, train1_feature2_var)\n",
    "    print(\"--------------------------------------------------------------------------------------\")\n",
    "    \n",
    "    test0_train0_first_prob=[get_pdf_gauss_val(val, train0_feature1_mean, train0_feature1_var) for val in test0_two_f[:, 0]]\n",
    "    test0_train0_second_prob=[get_pdf_gauss_val(val, train0_feature2_mean, train0_feature2_var) for val in test0_two_f[:, 1]]\n",
    "    test0_train1_first_prob=[get_pdf_gauss_val(val, train1_feature1_mean, train1_feature1_var) for val in test0_two_f[:, 0]]\n",
    "    test0_train1_second_prob=[get_pdf_gauss_val(val, train1_feature2_mean, train1_feature2_var) for val in test0_two_f[:, 1]]\n",
    "    \n",
    "    test1_train0_first_prob=[get_pdf_gauss_val(val, train0_feature1_mean, train0_feature1_var) for val in test1_two_f[:, 0]]\n",
    "    test1_train0_second_prob=[get_pdf_gauss_val(val, train0_feature2_mean, train0_feature2_var) for val in test1_two_f[:, 1]]\n",
    "    test1_train1_first_prob=[get_pdf_gauss_val(val, train1_feature1_mean, train1_feature1_var) for val in test1_two_f[:, 0]]\n",
    "    test1_train1_second_prob=[get_pdf_gauss_val(val, train1_feature2_mean, train1_feature2_var) for val in test1_two_f[:, 1]]\n",
    "    \n",
    "    test0_train0_prob=[]\n",
    "    for i in range(len(test0_train0_first_prob)):\n",
    "        test0_train0_prob.append(test0_train0_first_prob[i]*test0_train0_second_prob[i]*0.5)\n",
    "        \n",
    "    test0_train1_prob=[]\n",
    "    for i in range(len(test0_train1_first_prob)):\n",
    "        test0_train1_prob.append(test0_train1_first_prob[i]*test0_train1_second_prob[i]*0.5)\n",
    "        \n",
    "    test1_train0_prob=[]\n",
    "    for i in range(len(test1_train0_first_prob)):\n",
    "        test1_train0_prob.append(test1_train0_first_prob[i]*test1_train0_second_prob[i]*0.5)\n",
    "        \n",
    "    test1_train1_prob=[]\n",
    "    for i in range(len(test1_train1_first_prob)):\n",
    "        test1_train1_prob.append(test1_train1_first_prob[i]*test1_train1_second_prob[i]*0.5)\n",
    "    \n",
    "    test0_predictions=[]\n",
    "    for i in range(len(test0_train0_prob)):\n",
    "        if test0_train0_prob[i]>test0_train1_prob[i]:\n",
    "            test0_predictions.append('0')\n",
    "        else:\n",
    "            test0_predictions.append('1')\n",
    "    \n",
    "    test1_predictions=[]\n",
    "    for i in range(len(test1_train0_prob)):\n",
    "        if test1_train1_prob[i]>test1_train0_prob[i]:\n",
    "            test1_predictions.append('1')\n",
    "        else:\n",
    "            test1_predictions.append('0')\n",
    "    \n",
    "    print('Test 0 Prediction Accuracy:', str((sum(numpy.array(test0_predictions)=='0')/len(test0_predictions))))\n",
    "    print('Test 1 Prediction Accuracy:', str((sum(numpy.array(test1_predictions)=='1')/len(test1_predictions))))\n",
    "    \n",
    "    pass\n",
    "\n",
    "\n",
    "if __name__ == '__main__':\n",
    "    main()"
   ]
  }
 ],
 "metadata": {
  "kernelspec": {
   "display_name": "Python 3",
   "language": "python",
   "name": "python3"
  },
  "language_info": {
   "codemirror_mode": {
    "name": "ipython",
    "version": 3
   },
   "file_extension": ".py",
   "mimetype": "text/x-python",
   "name": "python",
   "nbconvert_exporter": "python",
   "pygments_lexer": "ipython3",
   "version": "3.8.5"
  }
 },
 "nbformat": 4,
 "nbformat_minor": 2
}
