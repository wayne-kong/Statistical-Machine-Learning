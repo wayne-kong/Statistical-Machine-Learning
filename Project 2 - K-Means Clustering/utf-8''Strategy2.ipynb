{
 "cells": [
  {
   "cell_type": "code",
   "execution_count": 1,
   "metadata": {},
   "outputs": [],
   "source": [
    "from Precode2 import *\n",
    "import numpy\n",
    "import random\n",
    "import seaborn as sns\n",
    "from sklearn.cluster import KMeans\n",
    "data = np.load('AllSamples.npy')"
   ]
  },
  {
   "cell_type": "code",
   "execution_count": 2,
   "metadata": {},
   "outputs": [],
   "source": [
    "# k1,i_point1,k2,i_point2 = initial_S2('5263') # please replace 0111 with your last four digit of your ID\n",
    "k1,i_point1 = initial_S2('5263',4) # please replace 0111 with your last four digit of your ID\n",
    "k2,i_point2 = initial_S2('5263',6)"
   ]
  },
  {
   "cell_type": "code",
   "execution_count": 3,
   "metadata": {},
   "outputs": [
    {
     "name": "stdout",
     "output_type": "stream",
     "text": [
      "4\n",
      "[2.10054891 1.44144019]\n",
      "6\n",
      "[7.59731342 1.16504743]\n"
     ]
    }
   ],
   "source": [
    "print(k1)\n",
    "print(i_point1)\n",
    "print(k2)\n",
    "print(i_point2)"
   ]
  },
  {
   "cell_type": "code",
   "execution_count": 4,
   "metadata": {
    "scrolled": true
   },
   "outputs": [],
   "source": [
    "def intialize_centroids(k, initial_centroids=None):\n",
    "    centroids=[]\n",
    "    data_temp=list(data)\n",
    "#     print(len(data_temp))\n",
    "    \n",
    "    if np.all(initial_centroids) == None:\n",
    "        \n",
    "        #first_centroid_index = initial_S2('5263',k)[1]\n",
    "        centroids.append(initial_S2('5263',k)[1])\n",
    "#         del data_temp[(np.where(((np.array(data_temp)==centroids)[:,0])==True)[0][0])]\n",
    "#         print(len(data_temp))\n",
    "        \n",
    "#         first_centroid_index=random.randint(0, len(data)-1)\n",
    "#         centroids.append(data_temp[first_centroid_index])\n",
    "#        del data_temp[first_centroid_index]\n",
    "    else:\n",
    "        centroids.append(initial_centroids)\n",
    "#         if sum(np.array(data_temp)==initial_centroids)[0]>0:\n",
    "#             del data_temp[(np.where(((np.array(data_temp)==initial_centroids)[:,0])==True)[0][0])]\n",
    "            \n",
    "#     for i in range(k-1):\n",
    "#         distances = []\n",
    "#         for val in data_temp:\n",
    "#             sum_differences=0\n",
    "#             for val2 in data_temp:\n",
    "#                 sum_differences+=np.linalg.norm(val-val2)\n",
    "#             distances.append(sum_differences/len(centroids))\n",
    "#         centroids.append(data_temp[np.argmax(distances)])\n",
    "\n",
    "                    \n",
    "    \n",
    "    for i in range(k-1):\n",
    "        distances=[]\n",
    "        for val in data_temp:\n",
    "            sum_differences=0\n",
    "            for center in centroids:\n",
    "                sum_differences+=np.linalg.norm(val-center)\n",
    "            distances.append(sum_differences/len(centroids))\n",
    "        centroids.append(data_temp[np.argmax(distances)])\n",
    "        del data_temp[np.argmax(distances)]\n",
    "#         print(len(data_temp))\n",
    "                \n",
    "    return centroids"
   ]
  },
  {
   "cell_type": "code",
   "execution_count": 5,
   "metadata": {
    "scrolled": false
   },
   "outputs": [
    {
     "data": {
      "text/plain": [
       "[array([2.10054891, 1.44144019]),\n",
       " array([9.26998864, 9.62492869]),\n",
       " array([ 3.85212146, -1.08715226]),\n",
       " array([2.95297924, 9.65073899])]"
      ]
     },
     "execution_count": 5,
     "metadata": {},
     "output_type": "execute_result"
    }
   ],
   "source": [
    "intialize_centroids(4)"
   ]
  },
  {
   "cell_type": "code",
   "execution_count": 6,
   "metadata": {},
   "outputs": [],
   "source": [
    "def run_kmeans(k, centroids=None):\n",
    "    \n",
    "    cost_func=[]\n",
    "    \n",
    "    if np.all(centroids) == None:\n",
    "        centroids=intialize_centroids(k)\n",
    "    \n",
    "    while True:\n",
    "        sum_sq_err=0\n",
    "        data_clusters=[]\n",
    "        for val in data:\n",
    "            distances=[]\n",
    "            for center in centroids:       \n",
    "                distances.append(np.linalg.norm(val-center)**2)           \n",
    "            sum_sq_err+=distances[np.argmin(distances)]\n",
    "            data_clusters.append(str(np.argmin(distances)))\n",
    "\n",
    "        cost_func.append(sum_sq_err)\n",
    "        \n",
    "        new_centroids=[]\n",
    "        for i in range(len(centroids)):\n",
    "            cluster_indices=[]\n",
    "            for j in range(len(data_clusters)):\n",
    "                if data_clusters[j]==str(i):\n",
    "                    cluster_indices.append(j)\n",
    "\n",
    "            new_centroid=0\n",
    "            for index in cluster_indices:\n",
    "                new_centroid+=data[index]\n",
    "                \n",
    "            if len(cluster_indices)!=0:\n",
    "                new_centroid/=len(cluster_indices)\n",
    "            else:\n",
    "                new_centroid=np.array([0, 0])\n",
    "                \n",
    "            new_centroids.append(new_centroid)\n",
    "        \n",
    "        if np.array_equal(new_centroids, centroids):\n",
    "            break\n",
    "        else:\n",
    "            centroids=new_centroids\n",
    "    \n",
    "    rounded_centroids=[]\n",
    "    for val in centroids:\n",
    "        edited_centroids=['%.8f' % elem for elem in val]\n",
    "        edited_centroids=[float(elem) for elem in edited_centroids]\n",
    "        rounded_centroids.append(edited_centroids)\n",
    "    return [rounded_centroids, float('%.10f' % cost_func[-1])]"
   ]
  },
  {
   "cell_type": "code",
   "execution_count": 7,
   "metadata": {},
   "outputs": [
    {
     "data": {
      "text/plain": [
       "[[[3.35164768, 2.5706778],\n",
       "  [6.85658333, 7.6614342],\n",
       "  [7.41419243, 2.32169114],\n",
       "  [3.153427, 6.9129207]],\n",
       " 792.4951052482]"
      ]
     },
     "execution_count": 7,
     "metadata": {},
     "output_type": "execute_result"
    }
   ],
   "source": [
    "run_kmeans(4)"
   ]
  },
  {
   "cell_type": "markdown",
   "metadata": {},
   "source": [
    "<b>State 1 results</b>"
   ]
  },
  {
   "cell_type": "code",
   "execution_count": 8,
   "metadata": {},
   "outputs": [
    {
     "name": "stdout",
     "output_type": "stream",
     "text": [
      "Centroids: [[4.85261193, 7.27164171], [5.00056234, 2.48542748]]\n",
      "Loss: 1921.0334858562\n"
     ]
    }
   ],
   "source": [
    "centroids, obj_func = run_kmeans(k1, i_point1)\n",
    "print('Centroids: '+ str(centroids))\n",
    "print('Loss: '+ str(obj_func))"
   ]
  },
  {
   "cell_type": "markdown",
   "metadata": {},
   "source": [
    "<b>State 2 results</b>"
   ]
  },
  {
   "cell_type": "code",
   "execution_count": 9,
   "metadata": {},
   "outputs": [
    {
     "name": "stdout",
     "output_type": "stream",
     "text": [
      "Centroids: [[4.85261193, 7.27164171], [5.00056234, 2.48542748]]\n",
      "Loss: 1921.0334858562\n"
     ]
    }
   ],
   "source": [
    "centroids, obj_func = run_kmeans(k2, i_point2)\n",
    "print('Centroids: '+ str(centroids))\n",
    "print('Loss: '+ str(obj_func))"
   ]
  },
  {
   "cell_type": "code",
   "execution_count": 16,
   "metadata": {},
   "outputs": [
    {
     "name": "stdout",
     "output_type": "stream",
     "text": [
      "Number of Clusters: 2\n",
      "Centroids: [[5.00056234, 2.48542748], [4.85261193, 7.27164171]]\n",
      "Objective Function: 1921.0334858562\n",
      "-----------------------------------------------------------------------------------------------------------------------------\n",
      "Number of Clusters: 3\n",
      "Centroids: [[7.23975119, 2.48208269], [4.83091958, 7.29959959], [3.23489005, 2.5530322]]\n",
      "Objective Function: 1338.1076016521\n",
      "-----------------------------------------------------------------------------------------------------------------------------\n",
      "Number of Clusters: 4\n",
      "Centroids: [[3.35164768, 2.5706778], [6.85658333, 7.6614342], [7.41419243, 2.32169114], [3.153427, 6.9129207]]\n",
      "Objective Function: 792.4951052482\n",
      "-----------------------------------------------------------------------------------------------------------------------------\n",
      "Number of Clusters: 5\n",
      "Centroids: [[7.25262683, 2.40015826], [5.40252508, 6.73636175], [7.75648325, 8.55668928], [3.21257461, 2.49658087], [2.60123296, 6.91610506]]\n",
      "Objective Function: 613.2824392056\n",
      "-----------------------------------------------------------------------------------------------------------------------------\n",
      "Number of Clusters: 6\n",
      "Centroids: [[7.41419243, 2.32169114], [5.46427736, 6.83771354], [3.14506148, 0.90770655], [7.75648325, 8.55668928], [2.56333815, 6.9782248], [3.49556658, 3.56611232]]\n",
      "Objective Function: 476.1187516764\n",
      "-----------------------------------------------------------------------------------------------------------------------------\n",
      "Number of Clusters: 7\n",
      "Centroids: [[5.17184179, 4.21915369], [7.91430998, 8.51990981], [3.16906145, 0.81432515], [2.54165252, 7.00267832], [7.55616782, 2.23516796], [5.30944451, 7.4514427], [2.24204752, 3.25100749]]\n",
      "Objective Function: 363.2204443859\n",
      "-----------------------------------------------------------------------------------------------------------------------------\n",
      "Number of Clusters: 8\n",
      "Centroids: [[7.55616782, 2.23516796], [5.46427736, 6.83771354], [3.16906145, 0.81432515], [8.36070221, 8.91063803], [4.86813713, 3.71934185], [7.24289713, 8.25583284], [2.24204752, 3.25100749], [2.56333815, 6.9782248]]\n",
      "Objective Function: 352.2440157609\n",
      "-----------------------------------------------------------------------------------------------------------------------------\n",
      "Number of Clusters: 9\n",
      "Centroids: [[4.81833058, 3.6950232], [7.92924013, 2.971699], [7.91430998, 8.51990981], [3.16906145, 0.81432515], [5.0217766, 7.82401258], [2.24204752, 3.25100749], [6.15468228, 5.70140721], [2.56333815, 6.9782248], [7.05333123, 1.24245221]]\n",
      "Objective Function: 241.3112746805\n",
      "-----------------------------------------------------------------------------------------------------------------------------\n",
      "Number of Clusters: 10\n",
      "Centroids: [[4.81833058, 3.6950232], [8.39870753, 8.92549706], [3.16906145, 0.81432515], [4.78842518, 7.88291646], [7.92520233, 2.93850938], [6.15468228, 5.70140721], [2.53650108, 6.85941978], [2.24204752, 3.25100749], [7.34195588, 8.23743982], [7.01939036, 1.2121259]]\n",
      "Objective Function: 227.8390219595\n",
      "-----------------------------------------------------------------------------------------------------------------------------\n"
     ]
    }
   ],
   "source": [
    "cost_funcs=[]\n",
    "for k in range(2, 11):\n",
    "    centroids, obj_func = run_kmeans(k)\n",
    "    print('Number of Clusters: ' + str(k))\n",
    "    print('Centroids: ' + str(centroids))\n",
    "    print('Objective Function: ' + str(obj_func))\n",
    "    print(\"-\" * 125)\n",
    "    cost_funcs.append(float(obj_func))"
   ]
  },
  {
   "cell_type": "markdown",
   "metadata": {},
   "source": [
    "<b>Randomly initialized centroids and multiple Ks round 1</b>"
   ]
  },
  {
   "cell_type": "code",
   "execution_count": 10,
   "metadata": {},
   "outputs": [
    {
     "name": "stdout",
     "output_type": "stream",
     "text": [
      "2\n",
      "3\n",
      "4\n",
      "5\n",
      "6\n",
      "7\n",
      "8\n",
      "9\n",
      "10\n"
     ]
    }
   ],
   "source": [
    "final_centroids=[]\n",
    "cost_funcs=[]\n",
    "for k in range(2, 11):\n",
    "    print(k)\n",
    "    centroids, obj_func = run_kmeans(k)\n",
    "    final_centroids.append(centroids)\n",
    "    cost_funcs.append(float(obj_func))"
   ]
  },
  {
   "cell_type": "code",
   "execution_count": 11,
   "metadata": {},
   "outputs": [
    {
     "name": "stdout",
     "output_type": "stream",
     "text": [
      "Number of Clusters: 2\n",
      "Centroids: [4.81833058, 3.6950232]\n",
      "Loss: 1921.0334858562\n",
      "-\n",
      "Number of Clusters: 3\n",
      "Centroids: [8.39870753, 8.92549706]\n",
      "Loss: 1338.1076016521\n",
      "-\n",
      "Number of Clusters: 4\n",
      "Centroids: [3.16906145, 0.81432515]\n",
      "Loss: 792.4951052482\n",
      "-\n",
      "Number of Clusters: 5\n",
      "Centroids: [4.78842518, 7.88291646]\n",
      "Loss: 613.2824392056\n",
      "-\n",
      "Number of Clusters: 6\n",
      "Centroids: [7.92520233, 2.93850938]\n",
      "Loss: 476.1187516764\n",
      "-\n",
      "Number of Clusters: 7\n",
      "Centroids: [6.15468228, 5.70140721]\n",
      "Loss: 363.2204443859\n",
      "-\n",
      "Number of Clusters: 8\n",
      "Centroids: [2.53650108, 6.85941978]\n",
      "Loss: 352.2440157609\n",
      "-\n",
      "Number of Clusters: 9\n",
      "Centroids: [2.24204752, 3.25100749]\n",
      "Loss: 241.3112746805\n",
      "-\n",
      "Number of Clusters: 10\n",
      "Centroids: [7.34195588, 8.23743982]\n",
      "Loss: 227.8390219595\n",
      "-\n"
     ]
    }
   ],
   "source": [
    "for i in range(len(final_centroids)):\n",
    "    print('Number of Clusters: ' + str(i+2))\n",
    "    print('Centroids: '+ str(centroids[i]))\n",
    "    print('Loss: '+ str(cost_funcs[i]))\n",
    "    print('-')"
   ]
  },
  {
   "cell_type": "code",
   "execution_count": 12,
   "metadata": {},
   "outputs": [
    {
     "name": "stderr",
     "output_type": "stream",
     "text": [
      "C:\\Users\\wayne\\anaconda3\\lib\\site-packages\\seaborn\\_decorators.py:36: FutureWarning: Pass the following variables as keyword args: x, y. From version 0.12, the only valid positional argument will be `data`, and passing other arguments without an explicit keyword will result in an error or misinterpretation.\n",
      "  warnings.warn(\n"
     ]
    },
    {
     "data": {
      "text/plain": [
       "<AxesSubplot:>"
      ]
     },
     "execution_count": 12,
     "metadata": {},
     "output_type": "execute_result"
    },
    {
     "data": {
      "image/png": "[encoded data removed]",
      "text/plain": [
       "<Figure size 432x288 with 1 Axes>"
      ]
     },
     "metadata": {
      "needs_background": "light"
     },
     "output_type": "display_data"
    }
   ],
   "source": [
    "sns.lineplot(list(range(2, 11)), cost_funcs)"
   ]
  },
  {
   "cell_type": "markdown",
   "metadata": {},
   "source": [
    "<b>Randomly initialized centroids and multiple Ks round 2</b>"
   ]
  },
  {
   "cell_type": "code",
   "execution_count": 13,
   "metadata": {},
   "outputs": [
    {
     "name": "stdout",
     "output_type": "stream",
     "text": [
      "2\n",
      "3\n",
      "4\n",
      "5\n",
      "6\n",
      "7\n",
      "8\n",
      "9\n",
      "10\n"
     ]
    }
   ],
   "source": [
    "final_centroids=[]\n",
    "cost_funcs=[]\n",
    "for k in range(2, 11):\n",
    "    print(k)\n",
    "    centroids, obj_func = run_kmeans(k)\n",
    "    final_centroids.append(centroids)\n",
    "    cost_funcs.append(float(obj_func))"
   ]
  },
  {
   "cell_type": "code",
   "execution_count": 14,
   "metadata": {},
   "outputs": [
    {
     "name": "stdout",
     "output_type": "stream",
     "text": [
      "Number of Clusters: 2\n",
      "Centroids: [4.81833058, 3.6950232]\n",
      "Loss: 1921.0334858562\n",
      "-\n",
      "Number of Clusters: 3\n",
      "Centroids: [8.39870753, 8.92549706]\n",
      "Loss: 1338.1076016521\n",
      "-\n",
      "Number of Clusters: 4\n",
      "Centroids: [3.16906145, 0.81432515]\n",
      "Loss: 792.4951052482\n",
      "-\n",
      "Number of Clusters: 5\n",
      "Centroids: [4.78842518, 7.88291646]\n",
      "Loss: 613.2824392056\n",
      "-\n",
      "Number of Clusters: 6\n",
      "Centroids: [7.92520233, 2.93850938]\n",
      "Loss: 476.1187516764\n",
      "-\n",
      "Number of Clusters: 7\n",
      "Centroids: [6.15468228, 5.70140721]\n",
      "Loss: 363.2204443859\n",
      "-\n",
      "Number of Clusters: 8\n",
      "Centroids: [2.53650108, 6.85941978]\n",
      "Loss: 352.2440157609\n",
      "-\n",
      "Number of Clusters: 9\n",
      "Centroids: [2.24204752, 3.25100749]\n",
      "Loss: 241.3112746805\n",
      "-\n",
      "Number of Clusters: 10\n",
      "Centroids: [7.34195588, 8.23743982]\n",
      "Loss: 227.8390219595\n",
      "-\n"
     ]
    }
   ],
   "source": [
    "for i in range(len(final_centroids)):\n",
    "    print('Number of Clusters: ' + str(i+2))\n",
    "    print('Centroids: '+ str(centroids[i]))\n",
    "    print('Loss: '+ str(cost_funcs[i]))\n",
    "    print('-')"
   ]
  },
  {
   "cell_type": "code",
   "execution_count": 15,
   "metadata": {},
   "outputs": [
    {
     "name": "stderr",
     "output_type": "stream",
     "text": [
      "C:\\Users\\wayne\\anaconda3\\lib\\site-packages\\seaborn\\_decorators.py:36: FutureWarning: Pass the following variables as keyword args: x, y. From version 0.12, the only valid positional argument will be `data`, and passing other arguments without an explicit keyword will result in an error or misinterpretation.\n",
      "  warnings.warn(\n"
     ]
    },
    {
     "data": {
      "text/plain": [
       "<AxesSubplot:>"
      ]
     },
     "execution_count": 15,
     "metadata": {},
     "output_type": "execute_result"
    },
    {
     "data": {
      "image/png": "[encoded data removed]",
      "text/plain": [
       "<Figure size 432x288 with 1 Axes>"
      ]
     },
     "metadata": {
      "needs_background": "light"
     },
     "output_type": "display_data"
    }
   ],
   "source": [
    "sns.lineplot(list(range(2, 11)), cost_funcs)"
   ]
  }
 ],
 "metadata": {
  "kernelspec": {
   "display_name": "Python 3",
   "language": "python",
   "name": "python3"
  },
  "language_info": {
   "codemirror_mode": {
    "name": "ipython",
    "version": 3
   },
   "file_extension": ".py",
   "mimetype": "text/x-python",
   "name": "python",
   "nbconvert_exporter": "python",
   "pygments_lexer": "ipython3",
   "version": "3.8.5"
  }
 },
 "nbformat": 4,
 "nbformat_minor": 2
}
