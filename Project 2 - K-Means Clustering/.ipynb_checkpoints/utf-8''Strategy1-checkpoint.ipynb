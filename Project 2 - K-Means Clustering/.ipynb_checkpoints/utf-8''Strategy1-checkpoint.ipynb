{
 "cells": [
  {
   "cell_type": "code",
   "execution_count": 1,
   "metadata": {},
   "outputs": [],
   "source": [
    "from Precode import *\n",
    "import numpy\n",
    "import random\n",
    "import seaborn as sns\n",
    "from sklearn.cluster import KMeans\n",
    "data = np.load('AllSamples.npy')"
   ]
  },
  {
   "cell_type": "code",
   "execution_count": 2,
   "metadata": {},
   "outputs": [
    {
     "name": "stdout",
     "output_type": "stream",
     "text": [
      "Strategy 1: k and initial points\n"
     ]
    }
   ],
   "source": [
    "k1,i_point1,k2,i_point2 = initial_S1('5027') # please replace 0111 with your last four digit of your ID"
   ]
  },
  {
   "cell_type": "code",
   "execution_count": 3,
   "metadata": {},
   "outputs": [
    {
     "name": "stdout",
     "output_type": "stream",
     "text": [
      "3\n",
      "[[ 4.34489155  3.99726667]\n",
      " [ 6.46350009  0.77471754]\n",
      " [ 7.39015357  1.13206806]]\n",
      "5\n",
      "[[ 2.48989693  8.40047863]\n",
      " [ 6.40483149  5.60578084]\n",
      " [ 7.77126987  8.91428052]\n",
      " [ 5.14255397  8.37451307]\n",
      " [ 4.89972495  7.37650893]]\n"
     ]
    }
   ],
   "source": [
    "print(k1)\n",
    "print(i_point1)\n",
    "print(k2)\n",
    "print(i_point2)"
   ]
  },
  {
   "cell_type": "code",
   "execution_count": 4,
   "metadata": {},
   "outputs": [],
   "source": [
    "def intialize_centroids(k):\n",
    "    centroids=[]\n",
    "    for i in range(k):\n",
    "        centroids.append(data[random.randint(0, len(data)-1)])\n",
    "    \n",
    "    return centroids"
   ]
  },
  {
   "cell_type": "code",
   "execution_count": 5,
   "metadata": {},
   "outputs": [],
   "source": [
    "def run_kmeans(k, centroids=None):\n",
    "    \n",
    "    cost_func=[]\n",
    "    \n",
    "    if centroids == None:\n",
    "        centroids=intialize_centroids(k)\n",
    "    \n",
    "    while 1:\n",
    "        sum_sq_err=0\n",
    "        data_clusters=[]\n",
    "        for val in data:\n",
    "            distances=[]\n",
    "            for center in centroids:\n",
    "                distances.append(np.linalg.norm(val-center))\n",
    "            sum_sq_err+=distances[np.argmin(distances)]\n",
    "            data_clusters.append(str(np.argmin(distances)))\n",
    "\n",
    "        cost_func.append(sum_sq_err)\n",
    "        \n",
    "        new_centroids=[]\n",
    "        for i in range(len(centroids)):\n",
    "            cluster_indices=[]\n",
    "            for j in range(len(data_clusters)):\n",
    "                if data_clusters[j]==str(i):\n",
    "                    cluster_indices.append(j)\n",
    "\n",
    "            new_centroid=0\n",
    "            for index in cluster_indices:\n",
    "                new_centroid+=data[index]\n",
    "                \n",
    "            if len(cluster_indices)!=0:\n",
    "                new_centroid/=len(cluster_indices)\n",
    "            else:\n",
    "                new_centroid=np.array([0, 0])\n",
    "                \n",
    "            new_centroids.append(new_centroid)\n",
    "        \n",
    "        if np.array_equal(new_centroids, centroids):\n",
    "            break\n",
    "        else:\n",
    "            centroids=new_centroids\n",
    "    \n",
    "    rounded_centroids=[]\n",
    "    for val in centroids:\n",
    "        edited_centroids=['%.2f' % elem for elem in val]\n",
    "        edited_centroids=[float(elem) for elem in edited_centroids]\n",
    "        rounded_centroids.append(edited_centroids)\n",
    "    return [rounded_centroids, float('%.2f' % cost_func[-1])]"
   ]
  },
  {
   "cell_type": "markdown",
   "metadata": {},
   "source": [
    "<b>State 1 results</b>"
   ]
  },
  {
   "cell_type": "code",
   "execution_count": 6,
   "metadata": {},
   "outputs": [
    {
     "name": "stdout",
     "output_type": "stream",
     "text": [
      "Centroids: [[4.83, 7.3], [3.23, 2.55], [7.24, 2.48]]\n",
      "Loss: 566.35\n"
     ]
    }
   ],
   "source": [
    "centroids, obj_func = run_kmeans(k1, i_point1)\n",
    "print('Centroids: '+ str(centroids))\n",
    "print('Loss: '+ str(obj_func))"
   ]
  },
  {
   "cell_type": "markdown",
   "metadata": {},
   "source": [
    "<b>State 2 results</b>"
   ]
  },
  {
   "cell_type": "code",
   "execution_count": 7,
   "metadata": {},
   "outputs": [
    {
     "name": "stdout",
     "output_type": "stream",
     "text": [
      "Centroids: [[2.6, 6.92], [7.25, 2.4], [7.76, 8.56], [5.4, 6.74], [3.21, 2.5]]\n",
      "Loss: 386.51\n"
     ]
    }
   ],
   "source": [
    "centroids, obj_func = run_kmeans(k2, i_point2)\n",
    "print('Centroids: '+ str(centroids))\n",
    "print('Loss: '+ str(obj_func))"
   ]
  },
  {
   "cell_type": "markdown",
   "metadata": {},
   "source": [
    "<b>Randomly initialized centroids and multiple Ks round 1</b>"
   ]
  },
  {
   "cell_type": "code",
   "execution_count": 8,
   "metadata": {},
   "outputs": [
    {
     "name": "stdout",
     "output_type": "stream",
     "text": [
      "2\n",
      "3\n",
      "4\n",
      "5\n",
      "6\n",
      "7\n",
      "8\n",
      "9\n",
      "10\n"
     ]
    }
   ],
   "source": [
    "final_centroids=[]\n",
    "cost_funcs=[]\n",
    "for k in range(2, 11):\n",
    "    print(k)\n",
    "    centroids, obj_func = run_kmeans(k)\n",
    "    final_centroids.append(centroids)\n",
    "    cost_funcs.append(float(obj_func))"
   ]
  },
  {
   "cell_type": "code",
   "execution_count": 9,
   "metadata": {},
   "outputs": [
    {
     "name": "stdout",
     "output_type": "stream",
     "text": [
      "Number of Clusters: 2\n",
      "Centroids: [7.56, 2.44]\n",
      "Loss: 704.0\n",
      "-\n",
      "Number of Clusters: 3\n",
      "Centroids: [1.96, 7.23]\n",
      "Loss: 566.35\n",
      "-\n",
      "Number of Clusters: 4\n",
      "Centroids: [8.2, 3.55]\n",
      "Loss: 449.24\n",
      "-\n",
      "Number of Clusters: 5\n",
      "Centroids: [5.31, 7.45]\n",
      "Loss: 386.51\n",
      "-\n",
      "Number of Clusters: 6\n",
      "Centroids: [2.51, 8.38]\n",
      "Loss: 342.77\n",
      "-\n",
      "Number of Clusters: 7\n",
      "Centroids: [2.74, 1.98]\n",
      "Loss: 328.22\n",
      "-\n",
      "Number of Clusters: 8\n",
      "Centroids: [7.91, 8.52]\n",
      "Loss: 271.61\n",
      "-\n",
      "Number of Clusters: 9\n",
      "Centroids: [3.0, 5.78]\n",
      "Loss: 274.06\n",
      "-\n",
      "Number of Clusters: 10\n",
      "Centroids: [6.96, 0.98]\n",
      "Loss: 264.33\n",
      "-\n"
     ]
    }
   ],
   "source": [
    "for i in range(len(final_centroids)):\n",
    "    print('Number of Clusters: ' + str(i+2))\n",
    "    print('Centroids: '+ str(centroids[i]))\n",
    "    print('Loss: '+ str(cost_funcs[i]))\n",
    "    print('-')"
   ]
  },
  {
   "cell_type": "code",
   "execution_count": 10,
   "metadata": {},
   "outputs": [
    {
     "data": {
      "text/plain": [
       "<matplotlib.axes._subplots.AxesSubplot at 0x7f94819584e0>"
      ]
     },
     "execution_count": 10,
     "metadata": {},
     "output_type": "execute_result"
    },
    {
     "data": {
      "image/png": "[encoded data removed]",
      "text/plain": [
       "<Figure size 432x288 with 1 Axes>"
      ]
     },
     "metadata": {},
     "output_type": "display_data"
    }
   ],
   "source": [
    "sns.lineplot(list(range(2, 11)), cost_funcs)"
   ]
  },
  {
   "cell_type": "markdown",
   "metadata": {},
   "source": [
    "<b>Randomly initialized centroids and multiple Ks round 2</b>"
   ]
  },
  {
   "cell_type": "code",
   "execution_count": 11,
   "metadata": {},
   "outputs": [
    {
     "name": "stdout",
     "output_type": "stream",
     "text": [
      "2\n",
      "3\n",
      "4\n",
      "5\n",
      "6\n",
      "7\n",
      "8\n",
      "9\n",
      "10\n"
     ]
    }
   ],
   "source": [
    "final_centroids=[]\n",
    "cost_funcs=[]\n",
    "for k in range(2, 11):\n",
    "    print(k)\n",
    "    centroids, obj_func = run_kmeans(k)\n",
    "    final_centroids.append(centroids)\n",
    "    cost_funcs.append(float(obj_func))"
   ]
  },
  {
   "cell_type": "code",
   "execution_count": 12,
   "metadata": {},
   "outputs": [
    {
     "name": "stdout",
     "output_type": "stream",
     "text": [
      "Number of Clusters: 2\n",
      "Centroids: [7.91, 8.52]\n",
      "Loss: 704.0\n",
      "-\n",
      "Number of Clusters: 3\n",
      "Centroids: [6.22, 5.63]\n",
      "Loss: 566.51\n",
      "-\n",
      "Number of Clusters: 4\n",
      "Centroids: [7.56, 2.24]\n",
      "Loss: 517.33\n",
      "-\n",
      "Number of Clusters: 5\n",
      "Centroids: [5.28, 8.36]\n",
      "Loss: 386.4\n",
      "-\n",
      "Number of Clusters: 6\n",
      "Centroids: [4.77, 7.16]\n",
      "Loss: 347.33\n",
      "-\n",
      "Number of Clusters: 7\n",
      "Centroids: [4.91, 3.56]\n",
      "Loss: 327.23\n",
      "-\n",
      "Number of Clusters: 8\n",
      "Centroids: [2.51, 8.38]\n",
      "Loss: 292.64\n",
      "-\n",
      "Number of Clusters: 9\n",
      "Centroids: [2.76, 1.94]\n",
      "Loss: 251.11\n",
      "-\n",
      "Number of Clusters: 10\n",
      "Centroids: [2.92, 5.69]\n",
      "Loss: 249.38\n",
      "-\n"
     ]
    }
   ],
   "source": [
    "for i in range(len(final_centroids)):\n",
    "    print('Number of Clusters: ' + str(i+2))\n",
    "    print('Centroids: '+ str(centroids[i]))\n",
    "    print('Loss: '+ str(cost_funcs[i]))\n",
    "    print('-')"
   ]
  },
  {
   "cell_type": "code",
   "execution_count": 13,
   "metadata": {},
   "outputs": [
    {
     "data": {
      "text/plain": [
       "<matplotlib.axes._subplots.AxesSubplot at 0x7f947f85c2e8>"
      ]
     },
     "execution_count": 13,
     "metadata": {},
     "output_type": "execute_result"
    },
    {
     "data": {
      "image/png": "[encoded data removed]",
      "text/plain": [
       "<Figure size 432x288 with 1 Axes>"
      ]
     },
     "metadata": {},
     "output_type": "display_data"
    }
   ],
   "source": [
    "sns.lineplot(list(range(2, 11)), cost_funcs)"
   ]
  },
  {
   "cell_type": "code",
   "execution_count": null,
   "metadata": {},
   "outputs": [],
   "source": []
  }
 ],
 "metadata": {
  "kernelspec": {
   "display_name": "Python 3",
   "language": "python",
   "name": "python3"
  },
  "language_info": {
   "codemirror_mode": {
    "name": "ipython",
    "version": 3
   },
   "file_extension": ".py",
   "mimetype": "text/x-python",
   "name": "python",
   "nbconvert_exporter": "python",
   "pygments_lexer": "ipython3",
   "version": "3.8.5"
  }
 },
 "nbformat": 4,
 "nbformat_minor": 2
}
