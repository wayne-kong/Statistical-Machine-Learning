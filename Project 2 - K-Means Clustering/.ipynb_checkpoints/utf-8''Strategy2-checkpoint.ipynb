{
 "cells": [
  {
   "cell_type": "code",
   "execution_count": 1,
   "metadata": {},
   "outputs": [],
   "source": [
    "from Precode2 import *\n",
    "import numpy\n",
    "import random\n",
    "import seaborn as sns\n",
    "from sklearn.cluster import KMeans\n",
    "data = np.load('AllSamples.npy')"
   ]
  },
  {
   "cell_type": "code",
   "execution_count": 2,
   "metadata": {},
   "outputs": [
    {
     "name": "stdout",
     "output_type": "stream",
     "text": [
      "Strategy 2: k and initial points\n"
     ]
    }
   ],
   "source": [
    "k1,i_point1,k2,i_point2 = initial_S2('5027') # please replace 0111 with your last four digit of your ID"
   ]
  },
  {
   "cell_type": "code",
   "execution_count": 3,
   "metadata": {},
   "outputs": [
    {
     "name": "stdout",
     "output_type": "stream",
     "text": [
      "4\n",
      "[ 3.32202131  6.15602339]\n",
      "6\n",
      "[ 5.74511019  5.32034026]\n"
     ]
    }
   ],
   "source": [
    "print(k1)\n",
    "print(i_point1)\n",
    "print(k2)\n",
    "print(i_point2)"
   ]
  },
  {
   "cell_type": "code",
   "execution_count": 4,
   "metadata": {},
   "outputs": [],
   "source": [
    "def intialize_centroids(k, initial_centroids=None):\n",
    "    centroids=[]\n",
    "    data_temp=list(data)\n",
    "    \n",
    "    if initial_centroids == None:\n",
    "        first_centroid_index=random.randint(0, len(data)-1)\n",
    "        centroids.append(data_temp[first_centroid_index])\n",
    "        del data_temp[first_centroid_index]\n",
    "    else:\n",
    "        centroids.append(initial_centroids)\n",
    "        if sum(np.array(data_temp)==initial_centroids)[0]>0:\n",
    "            del data_temp[(np.where(((np.array(data_temp)==initial_centroids)[:,0])==True)[0][0])]\n",
    "    \n",
    "    for i in range(k-1):\n",
    "        distances=[]\n",
    "        for val in data_temp:\n",
    "            sum_differences=0\n",
    "            for center in centroids:\n",
    "                sum_differences+=np.linalg.norm(val-center)\n",
    "            distances.append(sum_differences)\n",
    "        centroids.append(data_temp[np.argmax(distances)])\n",
    "        del data_temp[np.argmax(distances)]\n",
    "                \n",
    "    return centroids"
   ]
  },
  {
   "cell_type": "code",
   "execution_count": 5,
   "metadata": {},
   "outputs": [],
   "source": [
    "def run_kmeans(k, initial_centroids=None):\n",
    "    \n",
    "    cost_func=[]\n",
    "    centroids=intialize_centroids(k, initial_centroids)\n",
    "    \n",
    "    while 1:\n",
    "        sum_sq_err=0\n",
    "        data_clusters=[]\n",
    "        for val in data:\n",
    "            distances=[]\n",
    "            for center in centroids:\n",
    "                distances.append(np.linalg.norm(val-center))\n",
    "            sum_sq_err+=distances[np.argmin(distances)]\n",
    "            data_clusters.append(str(np.argmin(distances)))\n",
    "\n",
    "        cost_func.append(sum_sq_err)\n",
    "        \n",
    "        new_centroids=[]\n",
    "        for i in range(len(centroids)):\n",
    "            cluster_indices=[]\n",
    "            for j in range(len(data_clusters)):\n",
    "                if data_clusters[j]==str(i):\n",
    "                    cluster_indices.append(j)\n",
    "\n",
    "            new_centroid=0\n",
    "            for index in cluster_indices:\n",
    "                new_centroid+=data[index]\n",
    "                \n",
    "            if len(cluster_indices)!=0:\n",
    "                new_centroid/=len(cluster_indices)\n",
    "            else:\n",
    "                new_centroid=np.array([0, 0])\n",
    "                \n",
    "            new_centroids.append(new_centroid)\n",
    "        \n",
    "        if np.array_equal(new_centroids, centroids):\n",
    "            break\n",
    "        else:\n",
    "            centroids=new_centroids\n",
    "    \n",
    "    rounded_centroids=[]\n",
    "    for val in centroids:\n",
    "        edited_centroids=['%.2f' % elem for elem in val]\n",
    "        edited_centroids=[float(elem) for elem in edited_centroids]\n",
    "        rounded_centroids.append(edited_centroids)\n",
    "    return [rounded_centroids, float('%.2f' % cost_func[-1])]"
   ]
  },
  {
   "cell_type": "markdown",
   "metadata": {},
   "source": [
    "<b>State 1 results</b>"
   ]
  },
  {
   "cell_type": "code",
   "execution_count": 6,
   "metadata": {},
   "outputs": [
    {
     "name": "stdout",
     "output_type": "stream",
     "text": [
      "Centroids: [[3.23, 2.52], [7.25, 2.4], [6.86, 7.66], [3.15, 6.91]]\n",
      "Loss: 451.65\n"
     ]
    }
   ],
   "source": [
    "centroids, obj_func = run_kmeans(k1, i_point1)\n",
    "print('Centroids: '+ str(centroids))\n",
    "print('Loss: '+ str(obj_func))"
   ]
  },
  {
   "cell_type": "markdown",
   "metadata": {},
   "source": [
    "<b>State 2 results</b>"
   ]
  },
  {
   "cell_type": "code",
   "execution_count": 7,
   "metadata": {},
   "outputs": [
    {
     "name": "stdout",
     "output_type": "stream",
     "text": [
      "Centroids: [[5.36, 4.43], [2.7, 2.05], [7.91, 8.52], [2.52, 6.82], [7.56, 2.24], [4.92, 7.83]]\n",
      "Loss: 332.79\n"
     ]
    }
   ],
   "source": [
    "centroids, obj_func = run_kmeans(k2, i_point2)\n",
    "print('Centroids: '+ str(centroids))\n",
    "print('Loss: '+ str(obj_func))"
   ]
  },
  {
   "cell_type": "markdown",
   "metadata": {},
   "source": [
    "<b>Randomly initialized centroids and multiple Ks round 1</b>"
   ]
  },
  {
   "cell_type": "code",
   "execution_count": 8,
   "metadata": {},
   "outputs": [
    {
     "name": "stdout",
     "output_type": "stream",
     "text": [
      "2\n",
      "3\n",
      "4\n",
      "5\n",
      "6\n",
      "7\n",
      "8\n",
      "9\n",
      "10\n"
     ]
    }
   ],
   "source": [
    "final_centroids=[]\n",
    "cost_funcs=[]\n",
    "for k in range(2, 11):\n",
    "    print(k)\n",
    "    centroids, obj_func = run_kmeans(k)\n",
    "    final_centroids.append(centroids)\n",
    "    cost_funcs.append(float(obj_func))"
   ]
  },
  {
   "cell_type": "code",
   "execution_count": 9,
   "metadata": {},
   "outputs": [
    {
     "name": "stdout",
     "output_type": "stream",
     "text": [
      "Number of Clusters: 2\n",
      "Centroids: [4.91, 3.56]\n",
      "Loss: 704.0\n",
      "-\n",
      "Number of Clusters: 3\n",
      "Centroids: [8.4, 8.93]\n",
      "Loss: 566.35\n",
      "-\n",
      "Number of Clusters: 4\n",
      "Centroids: [3.17, 0.81]\n",
      "Loss: 455.47\n",
      "-\n",
      "Number of Clusters: 5\n",
      "Centroids: [5.43, 6.87]\n",
      "Loss: 386.51\n",
      "-\n",
      "Number of Clusters: 6\n",
      "Centroids: [7.88, 3.11]\n",
      "Loss: 332.67\n",
      "-\n",
      "Number of Clusters: 7\n",
      "Centroids: [3.14, 5.93]\n",
      "Loss: 305.84\n",
      "-\n",
      "Number of Clusters: 8\n",
      "Centroids: [7.07, 1.28]\n",
      "Loss: 258.16\n",
      "-\n",
      "Number of Clusters: 9\n",
      "Centroids: [7.27, 8.28]\n",
      "Loss: 250.49\n",
      "-\n",
      "Number of Clusters: 10\n",
      "Centroids: [2.24, 3.25]\n",
      "Loss: 234.67\n",
      "-\n"
     ]
    }
   ],
   "source": [
    "for i in range(len(final_centroids)):\n",
    "    print('Number of Clusters: ' + str(i+2))\n",
    "    print('Centroids: '+ str(centroids[i]))\n",
    "    print('Loss: '+ str(cost_funcs[i]))\n",
    "    print('-')"
   ]
  },
  {
   "cell_type": "code",
   "execution_count": 10,
   "metadata": {},
   "outputs": [
    {
     "data": {
      "text/plain": [
       "<matplotlib.axes._subplots.AxesSubplot at 0x7fd2cb064c18>"
      ]
     },
     "execution_count": 10,
     "metadata": {},
     "output_type": "execute_result"
    },
    {
     "data": {
      "image/png": "[encoded data removed]",
      "text/plain": [
       "<Figure size 432x288 with 1 Axes>"
      ]
     },
     "metadata": {},
     "output_type": "display_data"
    }
   ],
   "source": [
    "sns.lineplot(list(range(2, 11)), cost_funcs)"
   ]
  },
  {
   "cell_type": "markdown",
   "metadata": {},
   "source": [
    "<b>Randomly initialized centroids and multiple Ks round 2</b>"
   ]
  },
  {
   "cell_type": "code",
   "execution_count": 11,
   "metadata": {},
   "outputs": [
    {
     "name": "stdout",
     "output_type": "stream",
     "text": [
      "2\n",
      "3\n",
      "4\n",
      "5\n",
      "6\n",
      "7\n",
      "8\n",
      "9\n",
      "10\n"
     ]
    }
   ],
   "source": [
    "final_centroids=[]\n",
    "cost_funcs=[]\n",
    "for k in range(2, 11):\n",
    "    print(k)\n",
    "    centroids, obj_func = run_kmeans(k)\n",
    "    final_centroids.append(centroids)\n",
    "    cost_funcs.append(float(obj_func))"
   ]
  },
  {
   "cell_type": "code",
   "execution_count": 12,
   "metadata": {},
   "outputs": [
    {
     "name": "stdout",
     "output_type": "stream",
     "text": [
      "Number of Clusters: 2\n",
      "Centroids: [2.54, 6.86]\n",
      "Loss: 704.0\n",
      "-\n",
      "Number of Clusters: 3\n",
      "Centroids: [3.17, 0.81]\n",
      "Loss: 577.79\n",
      "-\n",
      "Number of Clusters: 4\n",
      "Centroids: [8.41, 8.97]\n",
      "Loss: 455.2\n",
      "-\n",
      "Number of Clusters: 5\n",
      "Centroids: [7.93, 2.94]\n",
      "Loss: 388.06\n",
      "-\n",
      "Number of Clusters: 6\n",
      "Centroids: [4.86, 7.94]\n",
      "Loss: 342.85\n",
      "-\n",
      "Number of Clusters: 7\n",
      "Centroids: [2.24, 3.25]\n",
      "Loss: 294.41\n",
      "-\n",
      "Number of Clusters: 8\n",
      "Centroids: [6.15, 5.7]\n",
      "Loss: 285.93\n",
      "-\n",
      "Number of Clusters: 9\n",
      "Centroids: [4.82, 3.7]\n",
      "Loss: 250.2\n",
      "-\n",
      "Number of Clusters: 10\n",
      "Centroids: [7.02, 1.21]\n",
      "Loss: 227.28\n",
      "-\n"
     ]
    }
   ],
   "source": [
    "for i in range(len(final_centroids)):\n",
    "    print('Number of Clusters: ' + str(i+2))\n",
    "    print('Centroids: '+ str(centroids[i]))\n",
    "    print('Loss: '+ str(cost_funcs[i]))\n",
    "    print('-')"
   ]
  },
  {
   "cell_type": "code",
   "execution_count": 13,
   "metadata": {},
   "outputs": [
    {
     "data": {
      "text/plain": [
       "<matplotlib.axes._subplots.AxesSubplot at 0x7fd2c8fd4860>"
      ]
     },
     "execution_count": 13,
     "metadata": {},
     "output_type": "execute_result"
    },
    {
     "data": {
      "image/png": "[encoded data removed]",
      "text/plain": [
       "<Figure size 432x288 with 1 Axes>"
      ]
     },
     "metadata": {},
     "output_type": "display_data"
    }
   ],
   "source": [
    "sns.lineplot(list(range(2, 11)), cost_funcs)"
   ]
  }
 ],
 "metadata": {
  "kernelspec": {
   "display_name": "Python 3",
   "language": "python",
   "name": "python3"
  },
  "language_info": {
   "codemirror_mode": {
    "name": "ipython",
    "version": 3
   },
   "file_extension": ".py",
   "mimetype": "text/x-python",
   "name": "python",
   "nbconvert_exporter": "python",
   "pygments_lexer": "ipython3",
   "version": "3.8.5"
  }
 },
 "nbformat": 4,
 "nbformat_minor": 2
}
