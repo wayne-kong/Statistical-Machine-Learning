{
 "cells": [
  {
   "cell_type": "code",
   "execution_count": 1,
   "metadata": {},
   "outputs": [],
   "source": [
    "from Precode2 import *\n",
    "import numpy\n",
    "data = np.load('AllSamples.npy')"
   ]
  },
  {
   "cell_type": "code",
   "execution_count": 2,
   "metadata": {},
   "outputs": [
    {
     "name": "stdout",
     "output_type": "stream",
     "text": [
      "Strategy 2: k and initial points\n"
     ]
    }
   ],
   "source": [
    "k1,i_point1,k2,i_point2 = initial_S2('5263') # please replace 0111 with your last four digit of your ID"
   ]
  },
  {
   "cell_type": "code",
   "execution_count": 3,
   "metadata": {
    "scrolled": true
   },
   "outputs": [
    {
     "name": "stdout",
     "output_type": "stream",
     "text": [
      "4\n",
      "[2.10054891 1.44144019]\n",
      "6\n",
      "[7.59731342 1.16504743]\n"
     ]
    }
   ],
   "source": [
    "print(k1)\n",
    "print(i_point1)\n",
    "print(k2)\n",
    "print(i_point2)"
   ]
  },
  {
   "cell_type": "code",
   "execution_count": 4,
   "metadata": {},
   "outputs": [
    {
     "data": {
      "text/plain": [
       "array([2.10054891, 1.44144019])"
      ]
     },
     "execution_count": 4,
     "metadata": {},
     "output_type": "execute_result"
    }
   ],
   "source": [
    "i_point1"
   ]
  },
  {
   "cell_type": "code",
   "execution_count": 5,
   "metadata": {},
   "outputs": [
    {
     "data": {
      "text/plain": [
       "array([[ 2.10054891,  1.44144019],\n",
       "       [ 9.26998864,  9.62492869],\n",
       "       [ 3.85212146, -1.08715226],\n",
       "       [ 1.52668895,  4.24557918]])"
      ]
     },
     "execution_count": 5,
     "metadata": {},
     "output_type": "execute_result"
    }
   ],
   "source": [
    "# Get initial Centroids for k1\n",
    "import pandas as pd\n",
    "# get 2nd centroid\n",
    "data_centroid1 = pd.DataFrame(data, columns = ['x', 'y'])\n",
    "data_centroid1['distance_from_1'] = numpy.sqrt((data_centroid1['x'] - i_point1[0])**2 + (data_centroid1['y'] - i_point1[1])**2)\n",
    "k1_2 = numpy.argmax(data_centroid1['distance_from_1'])\n",
    "k1_2_list = [data_centroid1['x'][k1_2], data_centroid1['y'][k1_2]]\n",
    "i_point1_list = numpy.zeros((4, 2))\n",
    "i_point1_list[0] = i_point1\n",
    "i_point1_list[1] = k1_2_list\n",
    "data_centroid1 = data_centroid1.drop([k1_2])\n",
    "\n",
    "# get 3rd centroid\n",
    "data_centroid1['distance_from_2'] = numpy.sqrt((data_centroid1['x'] - k1_2_list[0])**2 + (data_centroid1['y'] - k1_2_list[1])**2)\n",
    "data_centroid1['distance_from_12'] = (data_centroid1['distance_from_2'] + data_centroid1['distance_from_1']) / 2\n",
    "k1_3 = numpy.argmax(data_centroid1['distance_from_12'])\n",
    "k1_3_list = [data_centroid1['x'][k1_3], data_centroid1['y'][k1_3]]\n",
    "i_point1_list[2] = k1_3_list\n",
    "data_centroid1 = data_centroid1.drop([k1_3])\n",
    "                                     \n",
    "\n",
    "# get 4th centroid\n",
    "data_centroid1['distance_from_3'] = numpy.sqrt((data_centroid1['x'] - k1_3_list[0])**2 + (data_centroid1['y'] - k1_3_list[1])**2)\n",
    "data_centroid1['distance_from_123'] = (data_centroid1['distance_from_2'] + data_centroid1['distance_from_1'] + data_centroid1['distance_from_3']) / 3\n",
    "k1_4 = numpy.argmax(data_centroid1['distance_from_123'])\n",
    "k1_4_list = [data_centroid1['x'][k1_4], data_centroid1['y'][k1_4]]\n",
    "i_point1_list[3] = k1_4_list\n",
    "\n",
    "    \n",
    "    \n",
    "i_point1 = i_point1_list\n",
    "i_point1\n",
    "#k1_2\n",
    "#data_centroid1.shape"
   ]
  },
  {
   "cell_type": "code",
   "execution_count": null,
   "metadata": {},
   "outputs": [],
   "source": [
    "# Get initial Centroids for k2\n",
    "import pandas as pd\n",
    "# get 2nd centroid\n",
    "data_centroid1 = pd.DataFrame(data, columns = ['x', 'y'])\n",
    "data_centroid1['distance_from_1'] = numpy.sqrt((data_centroid1['x'] - i_point2[0])**2 + (data_centroid1['y'] - i_point2[1])**2)\n",
    "k1_2 = numpy.argmax(data_centroid1['distance_from_1'])\n",
    "k1_2_list = [data_centroid1['x'][k1_2], data_centroid1['y'][k1_2]]\n",
    "i_point1_list = numpy.zeros((6, 2))\n",
    "i_point1_list[0] = i_point2\n",
    "i_point1_list[1] = k1_2_list\n",
    "data_centroid1 = data_centroid1.drop([k1_2])\n",
    "\n",
    "# get 3rd centroid\n",
    "data_centroid1['distance_from_2'] = numpy.sqrt((data_centroid1['x'] - k1_2_list[0])**2 + (data_centroid1['y'] - k1_2_list[1])**2)\n",
    "data_centroid1['distance_from_12'] = (data_centroid1['distance_from_2'] \n",
    "                                      + data_centroid1['distance_from_1']) / 2\n",
    "k1_3 = numpy.argmax(data_centroid1['distance_from_12'])\n",
    "k1_3_list = [data_centroid1['x'][k1_3], data_centroid1['y'][k1_3]]\n",
    "i_point1_list[2] = k1_3_list\n",
    "data_centroid1 = data_centroid1.drop([k1_3])\n",
    "                                     \n",
    "\n",
    "# get 4th centroid\n",
    "data_centroid1['distance_from_3'] = numpy.sqrt((data_centroid1['x'] - k1_3_list[0])**2 + (data_centroid1['y'] - k1_3_list[1])**2)\n",
    "data_centroid1['distance_from_123'] = (data_centroid1['distance_from_2'] + data_centroid1['distance_from_1'] \n",
    "                                       + data_centroid1['distance_from_3']) / 3\n",
    "k1_4 = numpy.argmax(data_centroid1['distance_from_123'])\n",
    "k1_4_list = [data_centroid1['x'][k1_4], data_centroid1['y'][k1_4]]\n",
    "i_point1_list[3] = k1_4_list\n",
    "data_centroid1 = data_centroid1.drop([k1_4])\n",
    " \n",
    "    \n",
    "# get 5th centroid\n",
    "data_centroid1['distance_from_4'] = numpy.sqrt((data_centroid1['x'] - k1_4_list[0])**2 + (data_centroid1['y'] - k1_4_list[1])**2)\n",
    "data_centroid1['distance_from_1234'] = (data_centroid1['distance_from_2'] + data_centroid1['distance_from_1'] \n",
    "                                        + data_centroid1['distance_from_3'] + data_centroid1['distance_from_4']) / 4\n",
    "k1_5 = numpy.argmax(data_centroid1['distance_from_1234'])\n",
    "k1_5_list = [data_centroid1['x'][k1_5], data_centroid1['y'][k1_5]]\n",
    "i_point1_list[4] = k1_5_list\n",
    "data_centroid1 = data_centroid1.drop([k1_5])\n",
    "\n",
    "\n",
    "# get 6th centroid\n",
    "data_centroid1['distance_from_5'] = numpy.sqrt((data_centroid1['x'] - k1_5_list[0])**2 + (data_centroid1['y'] - k1_5_list[1])**2)\n",
    "data_centroid1['distance_from_12345'] = (data_centroid1['distance_from_2'] + data_centroid1['distance_from_1'] \n",
    "                                        + data_centroid1['distance_from_3'] + data_centroid1['distance_from_4'] \n",
    "                                         + data_centroid1['distance_from_5']) / 5\n",
    "k1_6 = numpy.argmax(data_centroid1['distance_from_12345'])\n",
    "k1_6_list = [data_centroid1['x'][k1_6], data_centroid1['y'][k1_6]]\n",
    "i_point1_list[5] = k1_6_list\n",
    "\n",
    "\n",
    "    \n",
    "i_point2 = i_point1_list\n",
    "i_point2\n",
    "#k1_2\n",
    "#data_centroid1.shape\n",
    "\n",
    "\n",
    "# Kmean for K1, K = 4"
   ]
  },
  {
   "cell_type": "code",
   "execution_count": null,
   "metadata": {},
   "outputs": [],
   "source": []
  },
  {
   "cell_type": "code",
   "execution_count": null,
   "metadata": {},
   "outputs": [],
   "source": []
  },
  {
   "cell_type": "code",
   "execution_count": null,
   "metadata": {},
   "outputs": [],
   "source": []
  }
 ],
 "metadata": {
  "kernelspec": {
   "display_name": "Python 3",
   "language": "python",
   "name": "python3"
  },
  "language_info": {
   "codemirror_mode": {
    "name": "ipython",
    "version": 3
   },
   "file_extension": ".py",
   "mimetype": "text/x-python",
   "name": "python",
   "nbconvert_exporter": "python",
   "pygments_lexer": "ipython3",
   "version": "3.8.5"
  }
 },
 "nbformat": 4,
 "nbformat_minor": 2
}
