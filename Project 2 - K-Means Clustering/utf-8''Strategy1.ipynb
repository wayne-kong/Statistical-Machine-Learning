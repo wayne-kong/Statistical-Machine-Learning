{
 "cells": [
  {
   "cell_type": "code",
   "execution_count": 1,
   "metadata": {},
   "outputs": [],
   "source": [
    "from Precode import *\n",
    "import numpy\n",
    "import random\n",
    "# import seaborn as sns\n",
    "# from sklearn.cluster import KMeans\n",
    "import matplotlib.pyplot as plt \n",
    "data = np.load('AllSamples.npy')"
   ]
  },
  {
   "cell_type": "code",
   "execution_count": 2,
   "metadata": {},
   "outputs": [],
   "source": [
    "k1,i_point1 = initial_S1('5263',3) # please replace 0111 with your last four digit of your ID\n",
    "k2,i_point2 = initial_S1('5263',5)"
   ]
  },
  {
   "cell_type": "code",
   "execution_count": 3,
   "metadata": {
    "scrolled": true
   },
   "outputs": [
    {
     "name": "stdout",
     "output_type": "stream",
     "text": [
      "3\n",
      "[[6.92525072 2.26330209]\n",
      " [8.33664582 9.23795257]\n",
      " [2.05924902 7.20598798]]\n",
      "5\n",
      "[[3.81485895 6.91844078]\n",
      " [2.81629029 3.1999725 ]\n",
      " [2.20011496 1.53863221]\n",
      " [5.2979492  3.65258141]\n",
      " [8.60402994 8.76147163]]\n"
     ]
    }
   ],
   "source": [
    "print(k1)\n",
    "print(i_point1)\n",
    "print(k2)\n",
    "print(i_point2)"
   ]
  },
  {
   "cell_type": "code",
   "execution_count": 4,
   "metadata": {},
   "outputs": [
    {
     "name": "stdout",
     "output_type": "stream",
     "text": [
      "2\n",
      "[[8.09469345 7.79199846]\n",
      " [6.60277235 6.31081582]]\n",
      "3\n",
      "[[6.92525072 2.26330209]\n",
      " [8.33664582 9.23795257]\n",
      " [2.05924902 7.20598798]]\n",
      "4\n",
      "[[5.14167285 5.71626939]\n",
      " [2.36057145 6.00796623]\n",
      " [8.09209017 3.39065059]\n",
      " [4.96433498 7.88753239]]\n",
      "5\n",
      "[[3.81485895 6.91844078]\n",
      " [2.81629029 3.1999725 ]\n",
      " [2.20011496 1.53863221]\n",
      " [5.2979492  3.65258141]\n",
      " [8.60402994 8.76147163]]\n",
      "6\n",
      "[[ 6.09952696  9.0178614 ]\n",
      " [ 8.21925014  9.11712554]\n",
      " [ 6.2396717   6.55049457]\n",
      " [ 6.47011829  5.54035543]\n",
      " [ 2.18568667  3.11739024]\n",
      " [ 3.04101702 -0.36138487]]\n",
      "7\n",
      "[[5.32508246 7.68399917]\n",
      " [4.32239695 0.33088885]\n",
      " [3.02105687 9.26213796]\n",
      " [4.50496872 4.7214697 ]\n",
      " [5.77144223 9.04075394]\n",
      " [8.21026885 8.18439548]\n",
      " [1.81229618 3.40781697]]\n",
      "8\n",
      "[[5.36626615 6.51434231]\n",
      " [3.0226944  0.86402039]\n",
      " [8.07641652 9.27162002]\n",
      " [4.4280969  7.41377907]\n",
      " [7.57805025 3.82487017]\n",
      " [6.48423011 5.04416608]\n",
      " [6.90743481 6.00718092]\n",
      " [5.33498937 3.07430754]]\n",
      "9\n",
      "[[7.39015357 1.13206806]\n",
      " [7.68097556 0.83542043]\n",
      " [2.81629029 3.1999725 ]\n",
      " [8.09469345 7.79199846]\n",
      " [3.2115245  1.1089788 ]\n",
      " [1.96633923 7.30845038]\n",
      " [7.93432052 8.17735191]\n",
      " [8.46078528 2.85204573]\n",
      " [3.39448396 0.63811821]]\n",
      "10\n",
      "[[7.45225989 2.26860809]\n",
      " [7.39015357 1.13206806]\n",
      " [1.89785053 3.50014156]\n",
      " [2.64145141 2.62206822]\n",
      " [2.48989693 8.40047863]\n",
      " [6.8950152  0.95350302]\n",
      " [2.77605992 2.74592055]\n",
      " [2.11728317 6.61574036]\n",
      " [3.03696341 5.82211317]\n",
      " [2.65875751 1.7541119 ]]\n"
     ]
    }
   ],
   "source": [
    "for i in range(2,11):\n",
    "    print(i)\n",
    "    print(initial_S1('5263',i)[1])"
   ]
  },
  {
   "cell_type": "code",
   "execution_count": 5,
   "metadata": {},
   "outputs": [],
   "source": [
    "def intialize_centroids(k):\n",
    "    centroids = (initial_S1('5263',k)[1])\n",
    "#     centroids=[]\n",
    "#     for i in range(k):\n",
    "#         centroids.append(data[random.randint(0, len(data)-1)])\n",
    "        \n",
    "    \n",
    "    return centroids"
   ]
  },
  {
   "cell_type": "code",
   "execution_count": 6,
   "metadata": {
    "scrolled": false
   },
   "outputs": [
    {
     "name": "stdout",
     "output_type": "stream",
     "text": [
      "[[7.45225989 2.26860809]\n",
      " [7.39015357 1.13206806]\n",
      " [1.89785053 3.50014156]\n",
      " [2.64145141 2.62206822]\n",
      " [2.48989693 8.40047863]\n",
      " [6.8950152  0.95350302]\n",
      " [2.77605992 2.74592055]\n",
      " [2.11728317 6.61574036]\n",
      " [3.03696341 5.82211317]\n",
      " [2.65875751 1.7541119 ]]\n"
     ]
    }
   ],
   "source": [
    "print(intialize_centroids(10))"
   ]
  },
  {
   "cell_type": "code",
   "execution_count": 7,
   "metadata": {},
   "outputs": [],
   "source": [
    "def run_kmeans(k, centroids=None):\n",
    "    \n",
    "    cost_func=[]\n",
    "    \n",
    "    if np.all(centroids) == None:\n",
    "        centroids=intialize_centroids(k)\n",
    "    \n",
    "    while True:\n",
    "        sum_sq_err=0\n",
    "        data_clusters=[]\n",
    "        for val in data:\n",
    "#             data_clusters.append(((np.linalg.norm((val - centroids), axis=0) ** 2)))\n",
    "#         cost_func = np.sum(data_clusters)\n",
    "\n",
    "            distances=[]\n",
    "            for center in centroids:\n",
    "            \n",
    "                distances.append(np.linalg.norm(val-center)**2)\n",
    "                \n",
    "#                 distances.append(np.linalg.norm(val-center))\n",
    "            sum_sq_err+=distances[np.argmin(distances)]\n",
    "            data_clusters.append(str(np.argmin(distances)))\n",
    "#             print(distances)\n",
    "#             print(data_clusters)\n",
    "\n",
    "        cost_func.append(sum_sq_err)        \n",
    "        \n",
    "        new_centroids=[]\n",
    "        for i in range(len(centroids)):\n",
    "            cluster_indices=[]\n",
    "            for j in range(len(data_clusters)):\n",
    "                if data_clusters[j]==str(i):\n",
    "                    cluster_indices.append(j)\n",
    "#                     print(cluster_indices)\n",
    "\n",
    "            new_centroid=0\n",
    "            for index in cluster_indices:\n",
    "                new_centroid+=data[index]\n",
    "                \n",
    "            if len(cluster_indices)!=0:\n",
    "                new_centroid/=len(cluster_indices)\n",
    "            else:\n",
    "                new_centroid=np.array([0, 0])\n",
    "                \n",
    "            new_centroids.append(new_centroid)\n",
    "        \n",
    "        if np.array_equal(new_centroids, centroids):\n",
    "            break\n",
    "        else:\n",
    "            centroids=new_centroids\n",
    "    \n",
    "    rounded_centroids=[]\n",
    "    for val in centroids:\n",
    "        edited_centroids=['%.8f' % elem for elem in val]\n",
    "        edited_centroids=[float(elem) for elem in edited_centroids]\n",
    "        rounded_centroids.append(edited_centroids)\n",
    "#     return [rounded_centroids, float('%.10f' % cost_func)]\n",
    "    return [rounded_centroids, float('%.10f' % cost_func[-1])]"
   ]
  },
  {
   "cell_type": "code",
   "execution_count": 8,
   "metadata": {
    "scrolled": false
   },
   "outputs": [
    {
     "name": "stdout",
     "output_type": "stream",
     "text": [
      "[[[5.47740039, 2.25498103], [6.49724962, 7.52297293], [2.56146449, 6.08861338]], 1293.7774523911]\n"
     ]
    }
   ],
   "source": [
    "print(run_kmeans(3, centroids=None))\n"
   ]
  },
  {
   "cell_type": "markdown",
   "metadata": {},
   "source": [
    "<b>State 1 results</b>"
   ]
  },
  {
   "cell_type": "code",
   "execution_count": 9,
   "metadata": {},
   "outputs": [
    {
     "name": "stdout",
     "output_type": "stream",
     "text": [
      "Centroids: [[5.47740039, 2.25498103], [6.49724962, 7.52297293], [2.56146449, 6.08861338]]\n",
      "Loss: 1293.7774523911\n"
     ]
    }
   ],
   "source": [
    "centroids, obj_func = run_kmeans(k1, i_point1)\n",
    "print('Centroids: '+ str(centroids))\n",
    "print('Loss: '+ str(obj_func))"
   ]
  },
  {
   "cell_type": "markdown",
   "metadata": {},
   "source": [
    "<b>State 2 results</b>"
   ]
  },
  {
   "cell_type": "code",
   "execution_count": 10,
   "metadata": {},
   "outputs": [
    {
     "name": "stdout",
     "output_type": "stream",
     "text": [
      "Centroids: [[3.006688, 7.03481503], [3.5545081, 3.62813062], [3.14506148, 0.90770655], [7.41419243, 2.32169114], [6.80421029, 7.6562222]]\n",
      "Loss: 653.9567908404\n"
     ]
    }
   ],
   "source": [
    "centroids, obj_func = run_kmeans(k2, i_point2)\n",
    "print('Centroids: '+ str(centroids))\n",
    "print('Loss: '+ str(obj_func))"
   ]
  },
  {
   "cell_type": "markdown",
   "metadata": {},
   "source": [
    "<b>Randomly initialized centroids and multiple Ks round 1</b>"
   ]
  },
  {
   "cell_type": "code",
   "execution_count": 11,
   "metadata": {},
   "outputs": [
    {
     "name": "stdout",
     "output_type": "stream",
     "text": [
      "2\n",
      "[[4.85261193, 7.27164171], [5.00056234, 2.48542748]] 1921.0334858562\n",
      "3\n",
      "[[5.47740039, 2.25498103], [6.49724962, 7.52297293], [2.56146449, 6.08861338]] 1293.7774523911\n",
      "4\n",
      "[[3.36373274, 2.59646706], [2.8337661, 6.9189569], [7.41419243, 2.32169114], [6.57957643, 7.57333595]] 788.2734352397\n",
      "5\n",
      "[[3.006688, 7.03481503], [3.5545081, 3.62813062], [3.14506148, 0.90770655], [7.41419243, 2.32169114], [6.80421029, 7.6562222]] 653.9567908404\n",
      "6\n",
      "[[2.52382885, 7.02897469], [7.75648325, 8.55668928], [5.46427736, 6.83771354], [7.41419243, 2.32169114], [3.502455, 3.62870476], [3.14506148, 0.90770655]] 476.296570527\n",
      "7\n",
      "[[6.15468228, 5.70140721], [7.55616782, 2.23516796], [2.56333815, 6.9782248], [4.81833058, 3.6950232], [5.0217766, 7.82401258], [7.91430998, 8.51990981], [2.68198633, 2.09461587]] 390.9175762542\n",
      "8\n",
      "[[3.00060229, 5.78295786], [2.73625005, 1.97510103], [7.91430998, 8.51990981], [2.18321462, 7.70355341], [7.55616782, 2.23516796], [6.15468228, 5.70140721], [5.0217766, 7.82401258], [4.91251497, 3.56314096]] 326.26502937\n",
      "9\n",
      "[[5.00870811, 3.63632857], [7.06768979, 1.28199329], [3.13834768, 5.93372322], [5.41183685, 6.90440774], [2.24204752, 3.25100749], [2.18321462, 7.70355341], [7.75648325, 8.55668928], [7.92192705, 3.06756108], [3.16906145, 0.81432515]] 258.498075285\n",
      "10\n",
      "[[8.02239214, 3.5606874], [7.57402858, 2.36763501], [1.90378175, 3.66474083], [2.67243649, 2.26123087], [7.75648325, 8.55668928], [6.96223538, 0.97764815], [4.81833058, 3.6950232], [2.56333815, 6.9782248], [5.43207068, 6.86930884], [3.3923978, 0.50655764]] 287.8433257487\n"
     ]
    }
   ],
   "source": [
    "# final_centroids=[]\n",
    "cost_funcs=[]\n",
    "for k in range(2, 11):\n",
    "#     print(k)\n",
    "#     print(centroids)\n",
    "    centroids, obj_func = run_kmeans(k)\n",
    "    print(k)\n",
    "    print(centroids, obj_func)\n",
    "#     final_centroids.append(centroids)\n",
    "    cost_funcs.append(float(obj_func))"
   ]
  },
  {
   "cell_type": "code",
   "execution_count": 12,
   "metadata": {},
   "outputs": [],
   "source": [
    "# for i in range(len(final_centroids)):\n",
    "#     print('Number of Clusters: ' + str(i+2))\n",
    "#     print('Centroids: '+ str(centroids[i]))\n",
    "#     print('Centroids: '+ str(centroids))\n",
    "#     print('Loss: '+ str(cost_funcs[i]))\n",
    "#     print('-')"
   ]
  },
  {
   "cell_type": "code",
   "execution_count": 13,
   "metadata": {
    "scrolled": true
   },
   "outputs": [],
   "source": [
    "# sns.lineplot(list(range(2, 11)), cost_funcs)"
   ]
  },
  {
   "cell_type": "code",
   "execution_count": 14,
   "metadata": {},
   "outputs": [
    {
     "data": {
      "image/png": "[encoded data removed]",
      "text/plain": [
       "<Figure size 432x288 with 1 Axes>"
      ]
     },
     "metadata": {
      "needs_background": "light"
     },
     "output_type": "display_data"
    }
   ],
   "source": [
    "plt.plot(list(range(2, 11)),cost_funcs)\n",
    "plt.xlabel('No of Clusters') \n",
    "plt.ylabel('Objective Function') \n",
    "plt.show()"
   ]
  },
  {
   "cell_type": "markdown",
   "metadata": {},
   "source": [
    "<b>Randomly initialized centroids and multiple Ks round 2</b>"
   ]
  },
  {
   "cell_type": "code",
   "execution_count": 15,
   "metadata": {},
   "outputs": [
    {
     "name": "stdout",
     "output_type": "stream",
     "text": [
      "2\n",
      "3\n",
      "4\n",
      "5\n",
      "6\n",
      "7\n",
      "8\n",
      "9\n",
      "10\n"
     ]
    }
   ],
   "source": [
    "final_centroids=[]\n",
    "cost_funcs=[]\n",
    "for k in range(2, 11):\n",
    "    print(k)\n",
    "    centroids, obj_func = run_kmeans(k)\n",
    "    final_centroids.append(centroids)\n",
    "    cost_funcs.append(float(obj_func))"
   ]
  },
  {
   "cell_type": "code",
   "execution_count": 16,
   "metadata": {},
   "outputs": [
    {
     "name": "stdout",
     "output_type": "stream",
     "text": [
      "Number of Clusters: 2\n",
      "Loss: 1921.0334858562\n",
      "-\n",
      "Number of Clusters: 3\n",
      "Loss: 1293.7774523911\n",
      "-\n",
      "Number of Clusters: 4\n",
      "Loss: 788.2734352397\n",
      "-\n",
      "Number of Clusters: 5\n",
      "Loss: 653.9567908404\n",
      "-\n",
      "Number of Clusters: 6\n",
      "Loss: 476.296570527\n",
      "-\n",
      "Number of Clusters: 7\n",
      "Loss: 390.9175762542\n",
      "-\n",
      "Number of Clusters: 8\n",
      "Loss: 326.26502937\n",
      "-\n",
      "Number of Clusters: 9\n",
      "Loss: 258.498075285\n",
      "-\n",
      "Number of Clusters: 10\n",
      "Loss: 287.8433257487\n",
      "-\n"
     ]
    }
   ],
   "source": [
    "for i in range(len(final_centroids)):\n",
    "    print('Number of Clusters: ' + str(i+2))\n",
    "#     print('Centroids: '+ str(centroids[i]))\n",
    "    print('Loss: '+ str(cost_funcs[i]))\n",
    "    print('-')"
   ]
  },
  {
   "cell_type": "code",
   "execution_count": 17,
   "metadata": {
    "scrolled": true
   },
   "outputs": [
    {
     "ename": "NameError",
     "evalue": "name 'sns' is not defined",
     "output_type": "error",
     "traceback": [
      "\u001b[1;31m---------------------------------------------------------------------------\u001b[0m",
      "\u001b[1;31mNameError\u001b[0m                                 Traceback (most recent call last)",
      "\u001b[1;32m<ipython-input-17-bd1494c223c8>\u001b[0m in \u001b[0;36m<module>\u001b[1;34m\u001b[0m\n\u001b[1;32m----> 1\u001b[1;33m \u001b[0msns\u001b[0m\u001b[1;33m.\u001b[0m\u001b[0mlineplot\u001b[0m\u001b[1;33m(\u001b[0m\u001b[0mlist\u001b[0m\u001b[1;33m(\u001b[0m\u001b[0mrange\u001b[0m\u001b[1;33m(\u001b[0m\u001b[1;36m2\u001b[0m\u001b[1;33m,\u001b[0m \u001b[1;36m11\u001b[0m\u001b[1;33m)\u001b[0m\u001b[1;33m)\u001b[0m\u001b[1;33m,\u001b[0m \u001b[0mcost_funcs\u001b[0m\u001b[1;33m)\u001b[0m\u001b[1;33m\u001b[0m\u001b[1;33m\u001b[0m\u001b[0m\n\u001b[0m",
      "\u001b[1;31mNameError\u001b[0m: name 'sns' is not defined"
     ]
    }
   ],
   "source": [
    "sns.lineplot(list(range(2, 11)), cost_funcs)"
   ]
  },
  {
   "cell_type": "code",
   "execution_count": null,
   "metadata": {},
   "outputs": [],
   "source": []
  }
 ],
 "metadata": {
  "kernelspec": {
   "display_name": "Python 3",
   "language": "python",
   "name": "python3"
  },
  "language_info": {
   "codemirror_mode": {
    "name": "ipython",
    "version": 3
   },
   "file_extension": ".py",
   "mimetype": "text/x-python",
   "name": "python",
   "nbconvert_exporter": "python",
   "pygments_lexer": "ipython3",
   "version": "3.8.5"
  }
 },
 "nbformat": 4,
 "nbformat_minor": 2
}
